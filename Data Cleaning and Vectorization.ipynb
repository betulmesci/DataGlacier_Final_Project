{
 "cells": [
  {
   "cell_type": "markdown",
   "metadata": {},
   "source": [
    "# Cleaning Emails:"
   ]
  },
  {
   "cell_type": "code",
   "execution_count": 1,
   "metadata": {},
   "outputs": [],
   "source": [
    "#Load necessary libraries:\n",
    "import numpy as np\n",
    "import pandas as pd\n",
    "import matplotlib.pyplot as plt\n",
    "\n",
    "from sklearn.feature_extraction.text import CountVectorizer\n",
    "from sklearn.metrics import accuracy_score, classification_report, confusion_matrix\n",
    "from sklearn.metrics import ConfusionMatrixDisplay\n",
    "from sklearn.preprocessing import LabelEncoder"
   ]
  },
  {
   "cell_type": "code",
   "execution_count": 2,
   "metadata": {},
   "outputs": [
    {
     "name": "stdout",
     "output_type": "stream",
     "text": [
      "18846\n"
     ]
    }
   ],
   "source": [
    "#Loading the data:\n",
    "categories = [\n",
    "    'alt.atheism',\n",
    "    'comp.graphics',\n",
    "    'comp.os.ms-windows.misc',\n",
    "    'comp.sys.ibm.pc.hardware',\n",
    "    'comp.sys.mac.hardware',\n",
    "    'comp.windows.x',\n",
    "    'misc.forsale',\n",
    "    'rec.autos',\n",
    "    'rec.motorcycles',\n",
    "    'rec.sport.baseball',\n",
    "    'rec.sport.hockey',\n",
    "    'sci.crypt',\n",
    "    'sci.electronics',\n",
    "    'sci.med',\n",
    "    'sci.space',\n",
    "    'soc.religion.christian',\n",
    "    'talk.politics.guns',\n",
    "    'talk.politics.mideast',\n",
    "    'talk.politics.misc',\n",
    "    'talk.religion.misc'\n",
    "]\n",
    "#Extracting train data and saving it into \"data\" list\n",
    "import os\n",
    "data = []\n",
    "for i in categories:\n",
    "    file_numbers = os.listdir('20news-bydate-train/'+i)\n",
    "    for j in range(len(file_numbers)):\n",
    "        with open('20news-bydate-train/'+i+'/'+file_numbers[j]) as f:\n",
    "            data.append((i, f.read()))\n",
    "\n",
    "#Extracting test data and saving it into \"data\" list\n",
    "for i in categories:\n",
    "    file_numbers = os.listdir('20news-bydate-test/'+i)\n",
    "    for j in range(len(file_numbers)):\n",
    "        with open('20news-bydate-test/'+i+'/'+file_numbers[j]) as f:\n",
    "            data.append((i, f.read()))\n",
    "print(len(data))"
   ]
  },
  {
   "cell_type": "code",
   "execution_count": 3,
   "metadata": {},
   "outputs": [
    {
     "data": {
      "text/html": [
       "<div>\n",
       "<style scoped>\n",
       "    .dataframe tbody tr th:only-of-type {\n",
       "        vertical-align: middle;\n",
       "    }\n",
       "\n",
       "    .dataframe tbody tr th {\n",
       "        vertical-align: top;\n",
       "    }\n",
       "\n",
       "    .dataframe thead th {\n",
       "        text-align: right;\n",
       "    }\n",
       "</style>\n",
       "<table border=\"1\" class=\"dataframe\">\n",
       "  <thead>\n",
       "    <tr style=\"text-align: right;\">\n",
       "      <th></th>\n",
       "      <th>target</th>\n",
       "      <th>email</th>\n",
       "    </tr>\n",
       "  </thead>\n",
       "  <tbody>\n",
       "    <tr>\n",
       "      <th>0</th>\n",
       "      <td>alt.atheism</td>\n",
       "      <td>From: mathew &lt;mathew@mantis.co.uk&gt;\\nSubject: A...</td>\n",
       "    </tr>\n",
       "    <tr>\n",
       "      <th>1</th>\n",
       "      <td>alt.atheism</td>\n",
       "      <td>From: mathew &lt;mathew@mantis.co.uk&gt;\\nSubject: A...</td>\n",
       "    </tr>\n",
       "    <tr>\n",
       "      <th>2</th>\n",
       "      <td>alt.atheism</td>\n",
       "      <td>From: I3150101@dbstu1.rz.tu-bs.de (Benedikt Ro...</td>\n",
       "    </tr>\n",
       "    <tr>\n",
       "      <th>3</th>\n",
       "      <td>alt.atheism</td>\n",
       "      <td>From: mathew &lt;mathew@mantis.co.uk&gt;\\nSubject: R...</td>\n",
       "    </tr>\n",
       "    <tr>\n",
       "      <th>4</th>\n",
       "      <td>alt.atheism</td>\n",
       "      <td>From: strom@Watson.Ibm.Com (Rob Strom)\\nSubjec...</td>\n",
       "    </tr>\n",
       "  </tbody>\n",
       "</table>\n",
       "</div>"
      ],
      "text/plain": [
       "        target                                              email\n",
       "0  alt.atheism  From: mathew <mathew@mantis.co.uk>\\nSubject: A...\n",
       "1  alt.atheism  From: mathew <mathew@mantis.co.uk>\\nSubject: A...\n",
       "2  alt.atheism  From: I3150101@dbstu1.rz.tu-bs.de (Benedikt Ro...\n",
       "3  alt.atheism  From: mathew <mathew@mantis.co.uk>\\nSubject: R...\n",
       "4  alt.atheism  From: strom@Watson.Ibm.Com (Rob Strom)\\nSubjec..."
      ]
     },
     "execution_count": 3,
     "metadata": {},
     "output_type": "execute_result"
    }
   ],
   "source": [
    "#Convert \"data\" list to DataFrame\n",
    "data = pd.DataFrame(data, columns=['target', 'email'])\n",
    "data.head()"
   ]
  },
  {
   "cell_type": "code",
   "execution_count": 30,
   "metadata": {},
   "outputs": [
    {
     "data": {
      "text/html": [
       "<div>\n",
       "<style scoped>\n",
       "    .dataframe tbody tr th:only-of-type {\n",
       "        vertical-align: middle;\n",
       "    }\n",
       "\n",
       "    .dataframe tbody tr th {\n",
       "        vertical-align: top;\n",
       "    }\n",
       "\n",
       "    .dataframe thead tr th {\n",
       "        text-align: left;\n",
       "    }\n",
       "\n",
       "    .dataframe thead tr:last-of-type th {\n",
       "        text-align: right;\n",
       "    }\n",
       "</style>\n",
       "<table border=\"1\" class=\"dataframe\">\n",
       "  <thead>\n",
       "    <tr>\n",
       "      <th></th>\n",
       "      <th colspan=\"4\" halign=\"left\">email</th>\n",
       "    </tr>\n",
       "    <tr>\n",
       "      <th></th>\n",
       "      <th>count</th>\n",
       "      <th>unique</th>\n",
       "      <th>top</th>\n",
       "      <th>freq</th>\n",
       "    </tr>\n",
       "    <tr>\n",
       "      <th>target</th>\n",
       "      <th></th>\n",
       "      <th></th>\n",
       "      <th></th>\n",
       "      <th></th>\n",
       "    </tr>\n",
       "  </thead>\n",
       "  <tbody>\n",
       "    <tr>\n",
       "      <th>0</th>\n",
       "      <td>799</td>\n",
       "      <td>799</td>\n",
       "      <td>from edm twisto compaq com ed mccreary subject...</td>\n",
       "      <td>1</td>\n",
       "    </tr>\n",
       "    <tr>\n",
       "      <th>1</th>\n",
       "      <td>973</td>\n",
       "      <td>973</td>\n",
       "      <td>from tmc spartan ac brocku ca tim ciceran subj...</td>\n",
       "      <td>1</td>\n",
       "    </tr>\n",
       "    <tr>\n",
       "      <th>2</th>\n",
       "      <td>985</td>\n",
       "      <td>985</td>\n",
       "      <td>from avinash silver lcs mit edu avinash chopde...</td>\n",
       "      <td>1</td>\n",
       "    </tr>\n",
       "    <tr>\n",
       "      <th>3</th>\n",
       "      <td>982</td>\n",
       "      <td>982</td>\n",
       "      <td>from guyd austin ibm com guy dawson subject re...</td>\n",
       "      <td>1</td>\n",
       "    </tr>\n",
       "    <tr>\n",
       "      <th>4</th>\n",
       "      <td>963</td>\n",
       "      <td>963</td>\n",
       "      <td>from blast nntp crl com tim keanini subject at...</td>\n",
       "      <td>1</td>\n",
       "    </tr>\n",
       "    <tr>\n",
       "      <th>5</th>\n",
       "      <td>988</td>\n",
       "      <td>988</td>\n",
       "      <td>from markw pspmf3 gpsemi com mark wilkinson ex...</td>\n",
       "      <td>1</td>\n",
       "    </tr>\n",
       "    <tr>\n",
       "      <th>6</th>\n",
       "      <td>973</td>\n",
       "      <td>973</td>\n",
       "      <td>from goldsman cc gatech edu michael g goldsman...</td>\n",
       "      <td>1</td>\n",
       "    </tr>\n",
       "    <tr>\n",
       "      <th>7</th>\n",
       "      <td>990</td>\n",
       "      <td>990</td>\n",
       "      <td>from tommy boole att com tommy reingold subjec...</td>\n",
       "      <td>1</td>\n",
       "    </tr>\n",
       "    <tr>\n",
       "      <th>8</th>\n",
       "      <td>996</td>\n",
       "      <td>996</td>\n",
       "      <td>from ranck joesbar cc vt edu wm l ranck subjec...</td>\n",
       "      <td>1</td>\n",
       "    </tr>\n",
       "    <tr>\n",
       "      <th>9</th>\n",
       "      <td>994</td>\n",
       "      <td>994</td>\n",
       "      <td>from mark b subject you could look it up organ...</td>\n",
       "      <td>1</td>\n",
       "    </tr>\n",
       "    <tr>\n",
       "      <th>10</th>\n",
       "      <td>999</td>\n",
       "      <td>999</td>\n",
       "      <td>from jpc philabs philips com john p curcio sub...</td>\n",
       "      <td>1</td>\n",
       "    </tr>\n",
       "    <tr>\n",
       "      <th>11</th>\n",
       "      <td>991</td>\n",
       "      <td>991</td>\n",
       "      <td>from strnlght netcom com david sternlight subj...</td>\n",
       "      <td>1</td>\n",
       "    </tr>\n",
       "    <tr>\n",
       "      <th>12</th>\n",
       "      <td>984</td>\n",
       "      <td>984</td>\n",
       "      <td>from me170pjd emba news uvm edu uucp peter j d...</td>\n",
       "      <td>1</td>\n",
       "    </tr>\n",
       "    <tr>\n",
       "      <th>13</th>\n",
       "      <td>990</td>\n",
       "      <td>990</td>\n",
       "      <td>from wcsbeau alfred carleton ca opirg subject ...</td>\n",
       "      <td>1</td>\n",
       "    </tr>\n",
       "    <tr>\n",
       "      <th>14</th>\n",
       "      <td>987</td>\n",
       "      <td>987</td>\n",
       "      <td>from leech cs unc edu jon leech subject space ...</td>\n",
       "      <td>1</td>\n",
       "    </tr>\n",
       "    <tr>\n",
       "      <th>15</th>\n",
       "      <td>997</td>\n",
       "      <td>997</td>\n",
       "      <td>from news cbnewsk att com subject re question ...</td>\n",
       "      <td>1</td>\n",
       "    </tr>\n",
       "    <tr>\n",
       "      <th>16</th>\n",
       "      <td>910</td>\n",
       "      <td>910</td>\n",
       "      <td>from julie eddie jpl nasa gov julie kangas sub...</td>\n",
       "      <td>1</td>\n",
       "    </tr>\n",
       "    <tr>\n",
       "      <th>17</th>\n",
       "      <td>940</td>\n",
       "      <td>940</td>\n",
       "      <td>from bc744 cleveland freenet edu mark ira kauf...</td>\n",
       "      <td>1</td>\n",
       "    </tr>\n",
       "    <tr>\n",
       "      <th>18</th>\n",
       "      <td>775</td>\n",
       "      <td>775</td>\n",
       "      <td>from as010b uhura cc rochester edu tree of sch...</td>\n",
       "      <td>1</td>\n",
       "    </tr>\n",
       "    <tr>\n",
       "      <th>19</th>\n",
       "      <td>628</td>\n",
       "      <td>628</td>\n",
       "      <td>from irfan davinci ece wisc edu irfan alan sub...</td>\n",
       "      <td>1</td>\n",
       "    </tr>\n",
       "  </tbody>\n",
       "</table>\n",
       "</div>"
      ],
      "text/plain": [
       "       email                                                               \n",
       "       count unique                                                top freq\n",
       "target                                                                     \n",
       "0        799    799  from edm twisto compaq com ed mccreary subject...    1\n",
       "1        973    973  from tmc spartan ac brocku ca tim ciceran subj...    1\n",
       "2        985    985  from avinash silver lcs mit edu avinash chopde...    1\n",
       "3        982    982  from guyd austin ibm com guy dawson subject re...    1\n",
       "4        963    963  from blast nntp crl com tim keanini subject at...    1\n",
       "5        988    988  from markw pspmf3 gpsemi com mark wilkinson ex...    1\n",
       "6        973    973  from goldsman cc gatech edu michael g goldsman...    1\n",
       "7        990    990  from tommy boole att com tommy reingold subjec...    1\n",
       "8        996    996  from ranck joesbar cc vt edu wm l ranck subjec...    1\n",
       "9        994    994  from mark b subject you could look it up organ...    1\n",
       "10       999    999  from jpc philabs philips com john p curcio sub...    1\n",
       "11       991    991  from strnlght netcom com david sternlight subj...    1\n",
       "12       984    984  from me170pjd emba news uvm edu uucp peter j d...    1\n",
       "13       990    990  from wcsbeau alfred carleton ca opirg subject ...    1\n",
       "14       987    987  from leech cs unc edu jon leech subject space ...    1\n",
       "15       997    997  from news cbnewsk att com subject re question ...    1\n",
       "16       910    910  from julie eddie jpl nasa gov julie kangas sub...    1\n",
       "17       940    940  from bc744 cleveland freenet edu mark ira kauf...    1\n",
       "18       775    775  from as010b uhura cc rochester edu tree of sch...    1\n",
       "19       628    628  from irfan davinci ece wisc edu irfan alan sub...    1"
      ]
     },
     "execution_count": 30,
     "metadata": {},
     "output_type": "execute_result"
    }
   ],
   "source": [
    "#Drop duplicates in the data\n",
    "data.drop_duplicates(inplace=True)\n",
    "data.groupby('target').describe()"
   ]
  },
  {
   "cell_type": "code",
   "execution_count": 5,
   "metadata": {},
   "outputs": [
    {
     "data": {
      "text/plain": [
       "'From: I3150101@dbstu1.rz.tu-bs.de (Benedikt Rosenau)\\nSubject: Re: Gospel Dating\\nOrganization: Technical University Braunschweig, Germany\\nLines: 93\\n\\nIn article <65974@mimsy.umd.edu>\\nmangoe@cs.umd.edu (Charley Wingate) writes:\\n \\n>>Well, John has a quite different, not necessarily more elaborated theology.\\n>>There is some evidence that he must have known Luke, and that the content\\n>>of Q was known to him, but not in a \\'canonized\\' form.\\n>\\n>This is a new argument to me.  Could you elaborate a little?\\n>\\n \\nThe argument goes as follows: Q-oid quotes appear in John, but not in\\nthe almost codified way they were in Matthew or Luke. However, they are\\nconsidered to be similar enough to point to knowledge of Q as such, and\\nnot an entirely different source.\\n \\n \\n>>Assuming that he knew Luke would obviously put him after Luke, and would\\n>>give evidence for the latter assumption.\\n>\\n>I don\\'t think this follows.  If you take the most traditional attributions,\\n>then Luke might have known John, but John is an elder figure in either case.\\n>We\\'re talking spans of time here which are well within the range of\\n>lifetimes.\\n \\nWe are talking date of texts here, not the age of the authors. The usual\\nexplanation for the time order of Mark, Matthew and Luke does not consider\\ntheir respective ages. It says Matthew has read the text of Mark, and Luke\\nthat of Matthew (and probably that of Mark).\\n \\nAs it is assumed that John knew the content of Luke\\'s text. The evidence\\nfor that is not overwhelming, admittedly.\\n \\n \\n>>>(1)  Earlier manuscripts of John have been discovered.\\n>\\n>>Interesting, where and which? How are they dated? How old are they?\\n>\\n>Unfortunately, I haven\\'t got the info at hand.  It was (I think) in the late\\n>\\'70s or early \\'80s, and it was possibly as old as CE 200.\\n>\\n \\nWhen they are from about 200, why do they shed doubt on the order on\\nputting John after the rest of the three?\\n \\n \\n>>I don\\'t see your point, it is exactly what James Felder said.  They had no\\n>>first hand knowledge of the events, and it obvious that at least two of them\\n>>used older texts as the base of their account.  And even the association of\\n>>Luke to Paul or Mark to Peter are not generally accepted.\\n>\\n>Well, a genuine letter of Peter would be close enough, wouldn\\'t it?\\n>\\n \\nSure, an original together with Id card of sender and receiver would be\\nfine. So what\\'s that supposed to say? Am I missing something?\\n \\n \\n>And I don\\'t think a \"one step removed\" source is that bad.  If Luke and Mark\\n>and Matthew learned their stories directly from diciples, then I really\\n>cannot believe in the sort of \"big transformation from Jesus to gospel\" that\\n>some people posit.  In news reports, one generally gets no better\\n>information than this.\\n>\\n>And if John IS a diciple, then there\\'s nothing more to be said.\\n>\\n \\nThat John was a disciple is not generally accepted. The style and language\\ntogether with the theology are usually used as counterargument.\\n \\nThe argument that John was a disciple relies on the claim in the gospel\\nof John itself. Is there any other evidence for it?\\n \\nOne step and one generation removed is bad even in our times. Compare that\\nto reports of similar events in our century in almost illiterate societies.\\nNot even to speak off that believers are not necessarily the best sources.\\n \\n \\n>>It is also obvious that Mark has been edited. How old are the oldest\\n>>manuscripts? To my knowledge (which can be antiquated) the oldest is\\n>>quite after any of these estimates, and it is not even complete.\\n>\\n>The only clear \"editing\" is problem of the ending, and it\\'s basically a\\n>hopeless mess.  The oldest versions give a strong sense of incompleteness,\\n>to the point where the shortest versions seem to break off in midsentence.\\n>The most obvious solution is that at some point part of the text was lost.\\n>The material from verse 9 on is pretty clearly later and seems to represent\\n>a synopsys of the end of Luke.\\n>\\nIn other words, one does not know what the original of Mark did look like\\nand arguments based on Mark are pretty weak.\\n \\nBut how is that connected to a redating of John?\\n   Benedikt\\n'"
      ]
     },
     "execution_count": 5,
     "metadata": {},
     "output_type": "execute_result"
    }
   ],
   "source": [
    "#Take a look at the contents of an email\n",
    "data['email'][2]"
   ]
  },
  {
   "cell_type": "code",
   "execution_count": 31,
   "metadata": {},
   "outputs": [
    {
     "data": {
      "text/plain": [
       "'from i3150101 dbstu1 rz tu bs de benedikt rosenau subject re gospel dating organization technical university braunschweig germany lines 93 in article mangoe cs umd edu charley wingate writes well john has a quite different not necessarily more elaborated theology there is some evidence that he must have known luke and that the content of q was known to him but not in a canonized form this is a new argument to me could you elaborate a little the argument goes as follows q oid quotes appear in john but not in the almost codified way they were in matthew or luke however they are considered to be similar enough to point to knowledge of q as such and not an entirely different source assuming that he knew luke would obviously put him after luke and would give evidence for the latter assumption i don t think this follows if you take the most traditional attributions then luke might have known john but john is an elder figure in either case we re talking spans of time here which are well within the range of lifetimes we are talking date of texts here not the age of the authors the usual explanation for the time order of mark matthew and luke does not consider their respective ages it says matthew has read the text of mark and luke that of matthew and probably that of mark as it is assumed that john knew the content of luke s text the evidence for that is not overwhelming admittedly 1 earlier manuscripts of john have been discovered interesting where and which how are they dated how old are they unfortunately i haven t got the info at hand it was i think in the late 70s or early 80s and it was possibly as old as ce 200 when they are from about 200 why do they shed doubt on the order on putting john after the rest of the three i don t see your point it is exactly what james felder said they had no first hand knowledge of the events and it obvious that at least two of them used older texts as the base of their account and even the association of luke to paul or mark to peter are not generally accepted well a genuine letter of peter would be close enough wouldn t it sure an original together with id card of sender and receiver would be fine so what s that supposed to say am i missing something and i don t think a one step removed source is that bad if luke and mark and matthew learned their stories directly from diciples then i really cannot believe in the sort of big transformation from jesus to gospel that some people posit in news reports one generally gets no better information than this and if john is a diciple then there s nothing more to be said that john was a disciple is not generally accepted the style and language together with the theology are usually used as counterargument the argument that john was a disciple relies on the claim in the gospel of john itself is there any other evidence for it one step and one generation removed is bad even in our times compare that to reports of similar events in our century in almost illiterate societies not even to speak off that believers are not necessarily the best sources it is also obvious that mark has been edited how old are the oldest manuscripts to my knowledge which can be antiquated the oldest is quite after any of these estimates and it is not even complete the only clear editing is problem of the ending and it s basically a hopeless mess the oldest versions give a strong sense of incompleteness to the point where the shortest versions seem to break off in midsentence the most obvious solution is that at some point part of the text was lost the material from verse 9 on is pretty clearly later and seems to represent a synopsys of the end of luke in other words one does not know what the original of mark did look like and arguments based on mark are pretty weak but how is that connected to a redating of john benedikt '"
      ]
     },
     "execution_count": 31,
     "metadata": {},
     "output_type": "execute_result"
    }
   ],
   "source": [
    "import re\n",
    "def preprocessor(text):\n",
    "    text = re.sub('<[^>]*>', '', text)\n",
    "    emoticons = re.findall('(?::|;|=)(?:-)?(?:\\)|\\(|D|P)', text)\n",
    "    text = re.sub('[\\W]+', ' ', text.lower()) +\\\n",
    "        ' '.join(emoticons).replace('-', '')\n",
    "    return text\n",
    "\n",
    "data['email'] = data['email'].apply(preprocessor)\n",
    "data['email'][2]"
   ]
  },
  {
   "cell_type": "code",
   "execution_count": 32,
   "metadata": {},
   "outputs": [
    {
     "data": {
      "text/html": [
       "<div>\n",
       "<style scoped>\n",
       "    .dataframe tbody tr th:only-of-type {\n",
       "        vertical-align: middle;\n",
       "    }\n",
       "\n",
       "    .dataframe tbody tr th {\n",
       "        vertical-align: top;\n",
       "    }\n",
       "\n",
       "    .dataframe thead th {\n",
       "        text-align: right;\n",
       "    }\n",
       "</style>\n",
       "<table border=\"1\" class=\"dataframe\">\n",
       "  <thead>\n",
       "    <tr style=\"text-align: right;\">\n",
       "      <th></th>\n",
       "      <th>target</th>\n",
       "      <th>email</th>\n",
       "    </tr>\n",
       "  </thead>\n",
       "  <tbody>\n",
       "    <tr>\n",
       "      <th>0</th>\n",
       "      <td>0</td>\n",
       "      <td>from mathew subject alt atheism faq atheist re...</td>\n",
       "    </tr>\n",
       "    <tr>\n",
       "      <th>1</th>\n",
       "      <td>0</td>\n",
       "      <td>from mathew subject alt atheism faq introducti...</td>\n",
       "    </tr>\n",
       "    <tr>\n",
       "      <th>2</th>\n",
       "      <td>0</td>\n",
       "      <td>from i3150101 dbstu1 rz tu bs de benedikt rose...</td>\n",
       "    </tr>\n",
       "    <tr>\n",
       "      <th>3</th>\n",
       "      <td>0</td>\n",
       "      <td>from mathew subject re university violating se...</td>\n",
       "    </tr>\n",
       "    <tr>\n",
       "      <th>4</th>\n",
       "      <td>0</td>\n",
       "      <td>from strom watson ibm com rob strom subject re...</td>\n",
       "    </tr>\n",
       "  </tbody>\n",
       "</table>\n",
       "</div>"
      ],
      "text/plain": [
       "   target                                              email\n",
       "0       0  from mathew subject alt atheism faq atheist re...\n",
       "1       0  from mathew subject alt atheism faq introducti...\n",
       "2       0  from i3150101 dbstu1 rz tu bs de benedikt rose...\n",
       "3       0  from mathew subject re university violating se...\n",
       "4       0  from strom watson ibm com rob strom subject re..."
      ]
     },
     "execution_count": 32,
     "metadata": {},
     "output_type": "execute_result"
    }
   ],
   "source": [
    "#Let's convert categorical target values into numerical values from 0 to 19\n",
    "class_le = LabelEncoder()\n",
    "data['target'] = class_le.fit_transform(data['target'].values)\n",
    "data.head()"
   ]
  },
  {
   "cell_type": "markdown",
   "metadata": {},
   "source": [
    "## Applying Bag of Words:"
   ]
  },
  {
   "cell_type": "markdown",
   "metadata": {},
   "source": [
    "In this section, we will convert emails into vectors containing numbers. We will use bag of words approach, where each unique word in a text will be represented by one number."
   ]
  },
  {
   "cell_type": "code",
   "execution_count": 33,
   "metadata": {},
   "outputs": [
    {
     "name": "stderr",
     "output_type": "stream",
     "text": [
      "[nltk_data] Downloading package punkt to\n",
      "[nltk_data]     C:\\Users\\h\\AppData\\Roaming\\nltk_data...\n",
      "[nltk_data]   Package punkt is already up-to-date!\n",
      "[nltk_data] Downloading package averaged_perceptron_tagger to\n",
      "[nltk_data]     C:\\Users\\h\\AppData\\Roaming\\nltk_data...\n",
      "[nltk_data]   Package averaged_perceptron_tagger is already up-to-\n",
      "[nltk_data]       date!\n",
      "[nltk_data] Downloading package stopwords to\n",
      "[nltk_data]     C:\\Users\\h\\AppData\\Roaming\\nltk_data...\n",
      "[nltk_data]   Package stopwords is already up-to-date!\n",
      "[nltk_data] Downloading package wordnet to\n",
      "[nltk_data]     C:\\Users\\h\\AppData\\Roaming\\nltk_data...\n",
      "[nltk_data]   Package wordnet is already up-to-date!\n"
     ]
    },
    {
     "data": {
      "text/plain": [
       "True"
      ]
     },
     "execution_count": 33,
     "metadata": {},
     "output_type": "execute_result"
    }
   ],
   "source": [
    "#Load necessary libraries:\n",
    "from textblob import TextBlob\n",
    "from sklearn.feature_extraction.text import CountVectorizer\n",
    "\n",
    "import nltk\n",
    "nltk.download('punkt')\n",
    "import nltk\n",
    "nltk.download('averaged_perceptron_tagger')\n",
    "import nltk\n",
    "nltk.download('stopwords')\n",
    "from nltk.corpus import stopwords\n",
    "import nltk\n",
    "nltk.download('wordnet')\n",
    "\n"
   ]
  },
  {
   "cell_type": "markdown",
   "metadata": {},
   "source": [
    "We will tokenize words in text, remove stop words (commonly used English words that do not contribute in decision making) and normalize words into their base forms (lemmas) with the following code: "
   ]
  },
  {
   "cell_type": "code",
   "execution_count": 34,
   "metadata": {},
   "outputs": [],
   "source": [
    "stop = stopwords.words('english')\n",
    "stop = stop + [u'a',u'b',u'c',u'd',u'e',u'f',u'g',u'h',u'i',u'j',u'k',u'l',u'm',u'n',u'o',u'p',u'q',u'r',u's',u't',u'v',u'w',u'x',u'y',u'z']\n",
    "\n",
    "def tokenize_lemmas(email):\n",
    "    email = str(email).lower()\n",
    "    words = TextBlob(email).words\n",
    "    # for each word, take its \"base form\" = lemma \n",
    "    return [word.lemma for word in words if word not in stop]"
   ]
  },
  {
   "cell_type": "markdown",
   "metadata": {},
   "source": [
    "We will tokenize words in text, remove stop words (commonly used English words that do not contribute in decision making) and normalize words into their base forms (lemmas) with the following code: "
   ]
  },
  {
   "cell_type": "code",
   "execution_count": 35,
   "metadata": {},
   "outputs": [
    {
     "name": "stdout",
     "output_type": "stream",
     "text": [
      "130659\n"
     ]
    }
   ],
   "source": [
    "bow_transformer = CountVectorizer(analyzer=tokenize_lemmas).fit(data['email'])\n",
    "\n",
    "print(len(bow_transformer.vocabulary_))"
   ]
  },
  {
   "cell_type": "code",
   "execution_count": 36,
   "metadata": {},
   "outputs": [
    {
     "name": "stdout",
     "output_type": "stream",
     "text": [
      "sparse matrix shape: (18844, 130659)\n",
      "number of non-zeros: 2188615\n",
      "sparsity: 0.09%\n"
     ]
    }
   ],
   "source": [
    "data_bow = bow_transformer.transform(data['email'])\n",
    "print('sparse matrix shape:', data_bow.shape)\n",
    "print('number of non-zeros:', data_bow.nnz)\n",
    "print('sparsity: %.2f%%' % (100.0 * data_bow.nnz / (data_bow.shape[0] * data_bow.shape[1])))"
   ]
  },
  {
   "cell_type": "markdown",
   "metadata": {},
   "source": [
    "Now the data is ready, we can split it into training and testing sets. First 12,000 documents will be in the training set. The remaining 6,844 will be in the testing set. "
   ]
  },
  {
   "cell_type": "code",
   "execution_count": 50,
   "metadata": {},
   "outputs": [],
   "source": [
    "bow_train = data_bow[:12000]\n",
    "bow_test = data_bow[12000:]\n",
    "sentiment_train = data['target'][:12000]\n",
    "sentiment_test = data['target'][12000:]"
   ]
  },
  {
   "cell_type": "code",
   "execution_count": 51,
   "metadata": {},
   "outputs": [],
   "source": [
    "def acc_conf_mat(train, test, pred_train,pred_test):\n",
    "    train_score = accuracy_score(train, pred_train) * 100\n",
    "    print(f\"Train accuracy score: {train_score:.2f}%\")\n",
    "    test_score = accuracy_score(test, pred_test) * 100\n",
    "    print(f\"Test accuracy score: {test_score:.2f}%\")\n",
    "    print(classification_report(test, pred_test))\n",
    "    cm = confusion_matrix(test, pred_test)\n",
    "    cmd = ConfusionMatrixDisplay(cm)\n",
    "    fig, ax = plt.subplots(figsize=(10,10))\n",
    "    cmd.plot(ax=ax)"
   ]
  },
  {
   "cell_type": "code",
   "execution_count": 52,
   "metadata": {},
   "outputs": [
    {
     "name": "stderr",
     "output_type": "stream",
     "text": [
      "C:\\Users\\h\\anaconda3\\lib\\site-packages\\sklearn\\linear_model\\_logistic.py:444: ConvergenceWarning: lbfgs failed to converge (status=1):\n",
      "STOP: TOTAL NO. of ITERATIONS REACHED LIMIT.\n",
      "\n",
      "Increase the number of iterations (max_iter) or scale the data as shown in:\n",
      "    https://scikit-learn.org/stable/modules/preprocessing.html\n",
      "Please also refer to the documentation for alternative solver options:\n",
      "    https://scikit-learn.org/stable/modules/linear_model.html#logistic-regression\n",
      "  n_iter_i = _check_optimize_result(\n"
     ]
    }
   ],
   "source": [
    "from sklearn.linear_model import LogisticRegression\n",
    "lr = LogisticRegression()\n",
    "lr.fit(bow_train, sentiment_train)\n",
    "train_pred = lr.predict(bow_train)\n",
    "test_pred = lr.predict(bow_test)"
   ]
  },
  {
   "cell_type": "code",
   "execution_count": 53,
   "metadata": {},
   "outputs": [
    {
     "name": "stdout",
     "output_type": "stream",
     "text": [
      "Train accuracy score: 100.00%\n",
      "Test accuracy score: 80.08%\n",
      "              precision    recall  f1-score   support\n",
      "\n",
      "           0       0.00      0.00      0.00         0\n",
      "           1       0.07      0.80      0.13        20\n",
      "           2       0.76      0.68      0.72       394\n",
      "           3       0.69      0.69      0.69       392\n",
      "           4       0.78      0.83      0.81       385\n",
      "           5       0.87      0.68      0.77       395\n",
      "           6       0.79      0.87      0.83       390\n",
      "           7       0.89      0.85      0.87       396\n",
      "           8       0.93      0.92      0.93       398\n",
      "           9       0.89      0.91      0.90       397\n",
      "          10       0.93      0.93      0.93       399\n",
      "          11       0.95      0.88      0.91       396\n",
      "          12       0.74      0.73      0.73       393\n",
      "          13       0.89      0.79      0.84       396\n",
      "          14       0.94      0.88      0.91       394\n",
      "          15       0.86      0.90      0.88       398\n",
      "          16       0.73      0.85      0.78       364\n",
      "          17       0.98      0.80      0.88       376\n",
      "          18       0.75      0.54      0.63       310\n",
      "          19       0.75      0.52      0.62       251\n",
      "\n",
      "    accuracy                           0.80      6844\n",
      "   macro avg       0.76      0.75      0.74      6844\n",
      "weighted avg       0.84      0.80      0.82      6844\n",
      "\n"
     ]
    },
    {
     "name": "stderr",
     "output_type": "stream",
     "text": [
      "C:\\Users\\h\\anaconda3\\lib\\site-packages\\sklearn\\metrics\\_classification.py:1334: UndefinedMetricWarning: Recall and F-score are ill-defined and being set to 0.0 in labels with no true samples. Use `zero_division` parameter to control this behavior.\n",
      "  _warn_prf(average, modifier, msg_start, len(result))\n",
      "C:\\Users\\h\\anaconda3\\lib\\site-packages\\sklearn\\metrics\\_classification.py:1334: UndefinedMetricWarning: Recall and F-score are ill-defined and being set to 0.0 in labels with no true samples. Use `zero_division` parameter to control this behavior.\n",
      "  _warn_prf(average, modifier, msg_start, len(result))\n",
      "C:\\Users\\h\\anaconda3\\lib\\site-packages\\sklearn\\metrics\\_classification.py:1334: UndefinedMetricWarning: Recall and F-score are ill-defined and being set to 0.0 in labels with no true samples. Use `zero_division` parameter to control this behavior.\n",
      "  _warn_prf(average, modifier, msg_start, len(result))\n"
     ]
    },
    {
     "data": {
      "image/png": "[encoded data removed]",
      "text/plain": [
       "<Figure size 720x720 with 2 Axes>"
      ]
     },
     "metadata": {
      "needs_background": "light"
     },
     "output_type": "display_data"
    }
   ],
   "source": [
    "acc_conf_mat(sentiment_train, sentiment_test, train_pred, test_pred)"
   ]
  },
  {
   "cell_type": "markdown",
   "metadata": {},
   "source": [
    "## Applying TfidfVectorizer:"
   ]
  },
  {
   "cell_type": "markdown",
   "metadata": {},
   "source": [
    "The process above can be replaced by TfidfVectorizer(). Let's see how it will perform:"
   ]
  },
  {
   "cell_type": "code",
   "execution_count": 54,
   "metadata": {},
   "outputs": [],
   "source": [
    "from sklearn.feature_extraction.text import TfidfVectorizer"
   ]
  },
  {
   "cell_type": "code",
   "execution_count": 55,
   "metadata": {},
   "outputs": [
    {
     "data": {
      "text/plain": [
       "array(['00', '000', '0000', ..., 'óáíïìåô', 'ýé', 'ÿhooked'], dtype=object)"
      ]
     },
     "execution_count": 55,
     "metadata": {},
     "output_type": "execute_result"
    }
   ],
   "source": [
    "vectorizer = TfidfVectorizer(stop_words='english', use_idf=True)\n",
    "X = vectorizer.fit_transform(data['email'])\n",
    "vectorizer.get_feature_names_out()\n"
   ]
  },
  {
   "cell_type": "code",
   "execution_count": 56,
   "metadata": {},
   "outputs": [
    {
     "data": {
      "text/plain": [
       "(18844, 139769)"
      ]
     },
     "execution_count": 56,
     "metadata": {},
     "output_type": "execute_result"
    }
   ],
   "source": [
    "X.shape"
   ]
  },
  {
   "cell_type": "code",
   "execution_count": 57,
   "metadata": {},
   "outputs": [
    {
     "data": {
      "text/plain": [
       "0.008334651761902945"
      ]
     },
     "execution_count": 57,
     "metadata": {},
     "output_type": "execute_result"
    }
   ],
   "source": [
    "X.data[0]"
   ]
  },
  {
   "cell_type": "code",
   "execution_count": 59,
   "metadata": {},
   "outputs": [],
   "source": [
    "X_train = X[:12000]\n",
    "X_test = X[12000:]\n",
    "y_train = data['target'][:12000]\n",
    "y_test = data['target'][12000:]"
   ]
  },
  {
   "cell_type": "code",
   "execution_count": 60,
   "metadata": {},
   "outputs": [
    {
     "name": "stderr",
     "output_type": "stream",
     "text": [
      "C:\\Users\\h\\anaconda3\\lib\\site-packages\\sklearn\\linear_model\\_logistic.py:444: ConvergenceWarning: lbfgs failed to converge (status=1):\n",
      "STOP: TOTAL NO. of ITERATIONS REACHED LIMIT.\n",
      "\n",
      "Increase the number of iterations (max_iter) or scale the data as shown in:\n",
      "    https://scikit-learn.org/stable/modules/preprocessing.html\n",
      "Please also refer to the documentation for alternative solver options:\n",
      "    https://scikit-learn.org/stable/modules/linear_model.html#logistic-regression\n",
      "  n_iter_i = _check_optimize_result(\n"
     ]
    }
   ],
   "source": [
    "from sklearn.linear_model import LogisticRegression\n",
    "lr_tf = LogisticRegression()\n",
    "lr_tf.fit(X_train, y_train)\n",
    "train_pred = lr_tf.predict(X_train)\n",
    "test_pred = lr_tf.predict(X_test)"
   ]
  },
  {
   "cell_type": "code",
   "execution_count": 61,
   "metadata": {},
   "outputs": [
    {
     "name": "stdout",
     "output_type": "stream",
     "text": [
      "Train accuracy score: 97.67%\n",
      "Test accuracy score: 80.68%\n",
      "              precision    recall  f1-score   support\n",
      "\n",
      "           0       0.00      0.00      0.00         0\n",
      "           1       0.04      0.85      0.08        20\n",
      "           2       0.79      0.70      0.74       394\n",
      "           3       0.76      0.70      0.73       392\n",
      "           4       0.85      0.81      0.83       385\n",
      "           5       0.90      0.67      0.77       395\n",
      "           6       0.80      0.85      0.82       390\n",
      "           7       0.91      0.88      0.89       396\n",
      "           8       0.96      0.94      0.95       398\n",
      "           9       0.93      0.91      0.92       397\n",
      "          10       0.94      0.95      0.95       399\n",
      "          11       0.97      0.89      0.93       396\n",
      "          12       0.79      0.72      0.75       393\n",
      "          13       0.92      0.82      0.87       396\n",
      "          14       0.92      0.87      0.89       394\n",
      "          15       0.87      0.89      0.88       398\n",
      "          16       0.74      0.89      0.81       364\n",
      "          17       0.99      0.82      0.90       376\n",
      "          18       0.85      0.58      0.69       310\n",
      "          19       0.88      0.44      0.59       251\n",
      "\n",
      "    accuracy                           0.81      6844\n",
      "   macro avg       0.79      0.76      0.75      6844\n",
      "weighted avg       0.87      0.81      0.83      6844\n",
      "\n"
     ]
    },
    {
     "name": "stderr",
     "output_type": "stream",
     "text": [
      "C:\\Users\\h\\anaconda3\\lib\\site-packages\\sklearn\\metrics\\_classification.py:1334: UndefinedMetricWarning: Recall and F-score are ill-defined and being set to 0.0 in labels with no true samples. Use `zero_division` parameter to control this behavior.\n",
      "  _warn_prf(average, modifier, msg_start, len(result))\n",
      "C:\\Users\\h\\anaconda3\\lib\\site-packages\\sklearn\\metrics\\_classification.py:1334: UndefinedMetricWarning: Recall and F-score are ill-defined and being set to 0.0 in labels with no true samples. Use `zero_division` parameter to control this behavior.\n",
      "  _warn_prf(average, modifier, msg_start, len(result))\n",
      "C:\\Users\\h\\anaconda3\\lib\\site-packages\\sklearn\\metrics\\_classification.py:1334: UndefinedMetricWarning: Recall and F-score are ill-defined and being set to 0.0 in labels with no true samples. Use `zero_division` parameter to control this behavior.\n",
      "  _warn_prf(average, modifier, msg_start, len(result))\n"
     ]
    },
    {
     "data": {
      "image/png": "[encoded data removed]",
      "text/plain": [
       "<Figure size 720x720 with 2 Axes>"
      ]
     },
     "metadata": {
      "needs_background": "light"
     },
     "output_type": "display_data"
    }
   ],
   "source": [
    "acc_conf_mat(y_train, y_test, train_pred, test_pred)"
   ]
  },
  {
   "cell_type": "code",
   "execution_count": null,
   "metadata": {},
   "outputs": [],
   "source": [
    "Both techniques gave similar results."
   ]
  }
 ],
 "metadata": {
  "kernelspec": {
   "display_name": "Python 3",
   "language": "python",
   "name": "python3"
  },
  "language_info": {
   "codemirror_mode": {
    "name": "ipython",
    "version": 3
   },
   "file_extension": ".py",
   "mimetype": "text/x-python",
   "name": "python",
   "nbconvert_exporter": "python",
   "pygments_lexer": "ipython3",
   "version": "3.8.3"
  }
 },
 "nbformat": 4,
 "nbformat_minor": 4
}
