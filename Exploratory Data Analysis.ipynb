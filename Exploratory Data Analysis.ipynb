{
 "cells": [
  {
   "cell_type": "markdown",
   "metadata": {},
   "source": [
    "## Loading the Data:"
   ]
  },
  {
   "cell_type": "code",
   "execution_count": 1,
   "metadata": {},
   "outputs": [],
   "source": [
    "#Load necessary libraries:\n",
    "import numpy as np\n",
    "import pandas as pd\n",
    "import matplotlib.pyplot as plt\n",
    "\n",
    "from sklearn.feature_extraction.text import CountVectorizer\n",
    "from sklearn.metrics import accuracy_score, classification_report, confusion_matrix\n",
    "from sklearn.metrics import ConfusionMatrixDisplay\n",
    "from sklearn.preprocessing import LabelEncoder"
   ]
  },
  {
   "cell_type": "code",
   "execution_count": 2,
   "metadata": {},
   "outputs": [
    {
     "name": "stdout",
     "output_type": "stream",
     "text": [
      "18846\n"
     ]
    }
   ],
   "source": [
    "#Loading the data:\n",
    "categories = [\n",
    "    'alt.atheism',\n",
    "    'comp.graphics',\n",
    "    'comp.os.ms-windows.misc',\n",
    "    'comp.sys.ibm.pc.hardware',\n",
    "    'comp.sys.mac.hardware',\n",
    "    'comp.windows.x',\n",
    "    'misc.forsale',\n",
    "    'rec.autos',\n",
    "    'rec.motorcycles',\n",
    "    'rec.sport.baseball',\n",
    "    'rec.sport.hockey',\n",
    "    'sci.crypt',\n",
    "    'sci.electronics',\n",
    "    'sci.med',\n",
    "    'sci.space',\n",
    "    'soc.religion.christian',\n",
    "    'talk.politics.guns',\n",
    "    'talk.politics.mideast',\n",
    "    'talk.politics.misc',\n",
    "    'talk.religion.misc'\n",
    "]\n",
    "#Extracting train data and saving it into \"data\" list\n",
    "import os\n",
    "data = []\n",
    "for i in categories:\n",
    "    file_numbers = os.listdir('20news-bydate-train/'+i)\n",
    "    for j in range(len(file_numbers)):\n",
    "        with open('20news-bydate-train/'+i+'/'+file_numbers[j]) as f:\n",
    "            data.append((i, f.read()))\n",
    "\n",
    "#Extracting test data and saving it into \"data\" list\n",
    "for i in categories:\n",
    "    file_numbers = os.listdir('20news-bydate-test/'+i)\n",
    "    for j in range(len(file_numbers)):\n",
    "        with open('20news-bydate-test/'+i+'/'+file_numbers[j]) as f:\n",
    "            data.append((i, f.read()))\n",
    "print(len(data))"
   ]
  },
  {
   "cell_type": "code",
   "execution_count": 3,
   "metadata": {},
   "outputs": [
    {
     "data": {
      "text/html": [
       "<div>\n",
       "<style scoped>\n",
       "    .dataframe tbody tr th:only-of-type {\n",
       "        vertical-align: middle;\n",
       "    }\n",
       "\n",
       "    .dataframe tbody tr th {\n",
       "        vertical-align: top;\n",
       "    }\n",
       "\n",
       "    .dataframe thead th {\n",
       "        text-align: right;\n",
       "    }\n",
       "</style>\n",
       "<table border=\"1\" class=\"dataframe\">\n",
       "  <thead>\n",
       "    <tr style=\"text-align: right;\">\n",
       "      <th></th>\n",
       "      <th>target</th>\n",
       "      <th>email</th>\n",
       "    </tr>\n",
       "  </thead>\n",
       "  <tbody>\n",
       "    <tr>\n",
       "      <th>0</th>\n",
       "      <td>alt.atheism</td>\n",
       "      <td>From: mathew &lt;mathew@mantis.co.uk&gt;\\nSubject: A...</td>\n",
       "    </tr>\n",
       "    <tr>\n",
       "      <th>1</th>\n",
       "      <td>alt.atheism</td>\n",
       "      <td>From: mathew &lt;mathew@mantis.co.uk&gt;\\nSubject: A...</td>\n",
       "    </tr>\n",
       "    <tr>\n",
       "      <th>2</th>\n",
       "      <td>alt.atheism</td>\n",
       "      <td>From: I3150101@dbstu1.rz.tu-bs.de (Benedikt Ro...</td>\n",
       "    </tr>\n",
       "    <tr>\n",
       "      <th>3</th>\n",
       "      <td>alt.atheism</td>\n",
       "      <td>From: mathew &lt;mathew@mantis.co.uk&gt;\\nSubject: R...</td>\n",
       "    </tr>\n",
       "    <tr>\n",
       "      <th>4</th>\n",
       "      <td>alt.atheism</td>\n",
       "      <td>From: strom@Watson.Ibm.Com (Rob Strom)\\nSubjec...</td>\n",
       "    </tr>\n",
       "  </tbody>\n",
       "</table>\n",
       "</div>"
      ],
      "text/plain": [
       "        target                                              email\n",
       "0  alt.atheism  From: mathew <mathew@mantis.co.uk>\\nSubject: A...\n",
       "1  alt.atheism  From: mathew <mathew@mantis.co.uk>\\nSubject: A...\n",
       "2  alt.atheism  From: I3150101@dbstu1.rz.tu-bs.de (Benedikt Ro...\n",
       "3  alt.atheism  From: mathew <mathew@mantis.co.uk>\\nSubject: R...\n",
       "4  alt.atheism  From: strom@Watson.Ibm.Com (Rob Strom)\\nSubjec..."
      ]
     },
     "execution_count": 3,
     "metadata": {},
     "output_type": "execute_result"
    }
   ],
   "source": [
    "#Convert \"data\" list to DataFrame\n",
    "data = pd.DataFrame(data, columns=['target', 'email'])\n",
    "data.head()"
   ]
  },
  {
   "cell_type": "markdown",
   "metadata": {},
   "source": [
    "## Cleaning the Data:"
   ]
  },
  {
   "cell_type": "code",
   "execution_count": 4,
   "metadata": {},
   "outputs": [
    {
     "data": {
      "text/plain": [
       "'From: I3150101@dbstu1.rz.tu-bs.de (Benedikt Rosenau)\\nSubject: Re: Gospel Dating\\nOrganization: Technical University Braunschweig, Germany\\nLines: 93\\n\\nIn article <65974@mimsy.umd.edu>\\nmangoe@cs.umd.edu (Charley Wingate) writes:\\n \\n>>Well, John has a quite different, not necessarily more elaborated theology.\\n>>There is some evidence that he must have known Luke, and that the content\\n>>of Q was known to him, but not in a \\'canonized\\' form.\\n>\\n>This is a new argument to me.  Could you elaborate a little?\\n>\\n \\nThe argument goes as follows: Q-oid quotes appear in John, but not in\\nthe almost codified way they were in Matthew or Luke. However, they are\\nconsidered to be similar enough to point to knowledge of Q as such, and\\nnot an entirely different source.\\n \\n \\n>>Assuming that he knew Luke would obviously put him after Luke, and would\\n>>give evidence for the latter assumption.\\n>\\n>I don\\'t think this follows.  If you take the most traditional attributions,\\n>then Luke might have known John, but John is an elder figure in either case.\\n>We\\'re talking spans of time here which are well within the range of\\n>lifetimes.\\n \\nWe are talking date of texts here, not the age of the authors. The usual\\nexplanation for the time order of Mark, Matthew and Luke does not consider\\ntheir respective ages. It says Matthew has read the text of Mark, and Luke\\nthat of Matthew (and probably that of Mark).\\n \\nAs it is assumed that John knew the content of Luke\\'s text. The evidence\\nfor that is not overwhelming, admittedly.\\n \\n \\n>>>(1)  Earlier manuscripts of John have been discovered.\\n>\\n>>Interesting, where and which? How are they dated? How old are they?\\n>\\n>Unfortunately, I haven\\'t got the info at hand.  It was (I think) in the late\\n>\\'70s or early \\'80s, and it was possibly as old as CE 200.\\n>\\n \\nWhen they are from about 200, why do they shed doubt on the order on\\nputting John after the rest of the three?\\n \\n \\n>>I don\\'t see your point, it is exactly what James Felder said.  They had no\\n>>first hand knowledge of the events, and it obvious that at least two of them\\n>>used older texts as the base of their account.  And even the association of\\n>>Luke to Paul or Mark to Peter are not generally accepted.\\n>\\n>Well, a genuine letter of Peter would be close enough, wouldn\\'t it?\\n>\\n \\nSure, an original together with Id card of sender and receiver would be\\nfine. So what\\'s that supposed to say? Am I missing something?\\n \\n \\n>And I don\\'t think a \"one step removed\" source is that bad.  If Luke and Mark\\n>and Matthew learned their stories directly from diciples, then I really\\n>cannot believe in the sort of \"big transformation from Jesus to gospel\" that\\n>some people posit.  In news reports, one generally gets no better\\n>information than this.\\n>\\n>And if John IS a diciple, then there\\'s nothing more to be said.\\n>\\n \\nThat John was a disciple is not generally accepted. The style and language\\ntogether with the theology are usually used as counterargument.\\n \\nThe argument that John was a disciple relies on the claim in the gospel\\nof John itself. Is there any other evidence for it?\\n \\nOne step and one generation removed is bad even in our times. Compare that\\nto reports of similar events in our century in almost illiterate societies.\\nNot even to speak off that believers are not necessarily the best sources.\\n \\n \\n>>It is also obvious that Mark has been edited. How old are the oldest\\n>>manuscripts? To my knowledge (which can be antiquated) the oldest is\\n>>quite after any of these estimates, and it is not even complete.\\n>\\n>The only clear \"editing\" is problem of the ending, and it\\'s basically a\\n>hopeless mess.  The oldest versions give a strong sense of incompleteness,\\n>to the point where the shortest versions seem to break off in midsentence.\\n>The most obvious solution is that at some point part of the text was lost.\\n>The material from verse 9 on is pretty clearly later and seems to represent\\n>a synopsys of the end of Luke.\\n>\\nIn other words, one does not know what the original of Mark did look like\\nand arguments based on Mark are pretty weak.\\n \\nBut how is that connected to a redating of John?\\n   Benedikt\\n'"
      ]
     },
     "execution_count": 4,
     "metadata": {},
     "output_type": "execute_result"
    }
   ],
   "source": [
    "#Take a look at the contents of an email\n",
    "data['email'][2]"
   ]
  },
  {
   "cell_type": "markdown",
   "metadata": {},
   "source": [
    "To remove all html tags from the emails, we will use preprocessor function."
   ]
  },
  {
   "cell_type": "code",
   "execution_count": 5,
   "metadata": {},
   "outputs": [
    {
     "data": {
      "text/plain": [
       "'from i3150101 dbstu1 rz tu bs de benedikt rosenau subject re gospel dating organization technical university braunschweig germany lines 93 in article mangoe cs umd edu charley wingate writes well john has a quite different not necessarily more elaborated theology there is some evidence that he must have known luke and that the content of q was known to him but not in a canonized form this is a new argument to me could you elaborate a little the argument goes as follows q oid quotes appear in john but not in the almost codified way they were in matthew or luke however they are considered to be similar enough to point to knowledge of q as such and not an entirely different source assuming that he knew luke would obviously put him after luke and would give evidence for the latter assumption i don t think this follows if you take the most traditional attributions then luke might have known john but john is an elder figure in either case we re talking spans of time here which are well within the range of lifetimes we are talking date of texts here not the age of the authors the usual explanation for the time order of mark matthew and luke does not consider their respective ages it says matthew has read the text of mark and luke that of matthew and probably that of mark as it is assumed that john knew the content of luke s text the evidence for that is not overwhelming admittedly 1 earlier manuscripts of john have been discovered interesting where and which how are they dated how old are they unfortunately i haven t got the info at hand it was i think in the late 70s or early 80s and it was possibly as old as ce 200 when they are from about 200 why do they shed doubt on the order on putting john after the rest of the three i don t see your point it is exactly what james felder said they had no first hand knowledge of the events and it obvious that at least two of them used older texts as the base of their account and even the association of luke to paul or mark to peter are not generally accepted well a genuine letter of peter would be close enough wouldn t it sure an original together with id card of sender and receiver would be fine so what s that supposed to say am i missing something and i don t think a one step removed source is that bad if luke and mark and matthew learned their stories directly from diciples then i really cannot believe in the sort of big transformation from jesus to gospel that some people posit in news reports one generally gets no better information than this and if john is a diciple then there s nothing more to be said that john was a disciple is not generally accepted the style and language together with the theology are usually used as counterargument the argument that john was a disciple relies on the claim in the gospel of john itself is there any other evidence for it one step and one generation removed is bad even in our times compare that to reports of similar events in our century in almost illiterate societies not even to speak off that believers are not necessarily the best sources it is also obvious that mark has been edited how old are the oldest manuscripts to my knowledge which can be antiquated the oldest is quite after any of these estimates and it is not even complete the only clear editing is problem of the ending and it s basically a hopeless mess the oldest versions give a strong sense of incompleteness to the point where the shortest versions seem to break off in midsentence the most obvious solution is that at some point part of the text was lost the material from verse 9 on is pretty clearly later and seems to represent a synopsys of the end of luke in other words one does not know what the original of mark did look like and arguments based on mark are pretty weak but how is that connected to a redating of john benedikt '"
      ]
     },
     "execution_count": 5,
     "metadata": {},
     "output_type": "execute_result"
    }
   ],
   "source": [
    "import re\n",
    "def preprocessor(text):\n",
    "    text = re.sub('<[^>]*>', '', text)\n",
    "    emoticons = re.findall('(?::|;|=)(?:-)?(?:\\)|\\(|D|P)', text)\n",
    "    text = re.sub('[\\W]+', ' ', text.lower()) +\\\n",
    "        ' '.join(emoticons).replace('-', '')\n",
    "    return text\n",
    "\n",
    "data['email'] = data['email'].apply(preprocessor)\n",
    "data['email'][2]"
   ]
  },
  {
   "cell_type": "code",
   "execution_count": 6,
   "metadata": {
    "scrolled": true
   },
   "outputs": [
    {
     "data": {
      "text/html": [
       "<div>\n",
       "<style scoped>\n",
       "    .dataframe tbody tr th:only-of-type {\n",
       "        vertical-align: middle;\n",
       "    }\n",
       "\n",
       "    .dataframe tbody tr th {\n",
       "        vertical-align: top;\n",
       "    }\n",
       "\n",
       "    .dataframe thead th {\n",
       "        text-align: right;\n",
       "    }\n",
       "</style>\n",
       "<table border=\"1\" class=\"dataframe\">\n",
       "  <thead>\n",
       "    <tr style=\"text-align: right;\">\n",
       "      <th></th>\n",
       "      <th>target</th>\n",
       "      <th>email</th>\n",
       "    </tr>\n",
       "  </thead>\n",
       "  <tbody>\n",
       "    <tr>\n",
       "      <th>0</th>\n",
       "      <td>0</td>\n",
       "      <td>from mathew subject alt atheism faq atheist re...</td>\n",
       "    </tr>\n",
       "    <tr>\n",
       "      <th>1</th>\n",
       "      <td>0</td>\n",
       "      <td>from mathew subject alt atheism faq introducti...</td>\n",
       "    </tr>\n",
       "    <tr>\n",
       "      <th>2</th>\n",
       "      <td>0</td>\n",
       "      <td>from i3150101 dbstu1 rz tu bs de benedikt rose...</td>\n",
       "    </tr>\n",
       "    <tr>\n",
       "      <th>3</th>\n",
       "      <td>0</td>\n",
       "      <td>from mathew subject re university violating se...</td>\n",
       "    </tr>\n",
       "    <tr>\n",
       "      <th>4</th>\n",
       "      <td>0</td>\n",
       "      <td>from strom watson ibm com rob strom subject re...</td>\n",
       "    </tr>\n",
       "  </tbody>\n",
       "</table>\n",
       "</div>"
      ],
      "text/plain": [
       "   target                                              email\n",
       "0       0  from mathew subject alt atheism faq atheist re...\n",
       "1       0  from mathew subject alt atheism faq introducti...\n",
       "2       0  from i3150101 dbstu1 rz tu bs de benedikt rose...\n",
       "3       0  from mathew subject re university violating se...\n",
       "4       0  from strom watson ibm com rob strom subject re..."
      ]
     },
     "execution_count": 6,
     "metadata": {},
     "output_type": "execute_result"
    }
   ],
   "source": [
    "#Let's convert categorical target values into numerical values from 0 to 19\n",
    "class_le = LabelEncoder()\n",
    "data['target'] = class_le.fit_transform(data['target'].values)\n",
    "data.head()"
   ]
  },
  {
   "cell_type": "code",
   "execution_count": 7,
   "metadata": {},
   "outputs": [
    {
     "data": {
      "text/html": [
       "<div>\n",
       "<style scoped>\n",
       "    .dataframe tbody tr th:only-of-type {\n",
       "        vertical-align: middle;\n",
       "    }\n",
       "\n",
       "    .dataframe tbody tr th {\n",
       "        vertical-align: top;\n",
       "    }\n",
       "\n",
       "    .dataframe thead th {\n",
       "        text-align: right;\n",
       "    }\n",
       "</style>\n",
       "<table border=\"1\" class=\"dataframe\">\n",
       "  <thead>\n",
       "    <tr style=\"text-align: right;\">\n",
       "      <th></th>\n",
       "      <th>target</th>\n",
       "      <th>email</th>\n",
       "    </tr>\n",
       "  </thead>\n",
       "  <tbody>\n",
       "    <tr>\n",
       "      <th>12549</th>\n",
       "      <td>3</td>\n",
       "      <td>from tschannf iauf5 unifr ch tschannen frederi...</td>\n",
       "    </tr>\n",
       "    <tr>\n",
       "      <th>4023</th>\n",
       "      <td>7</td>\n",
       "      <td>subject convertibles from bouton gertrude cms ...</td>\n",
       "    </tr>\n",
       "    <tr>\n",
       "      <th>18675</th>\n",
       "      <td>19</td>\n",
       "      <td>from livesey solntze wpd sgi com jon livesey s...</td>\n",
       "    </tr>\n",
       "    <tr>\n",
       "      <th>8315</th>\n",
       "      <td>14</td>\n",
       "      <td>from henry zoo toronto edu henry spencer subje...</td>\n",
       "    </tr>\n",
       "    <tr>\n",
       "      <th>9210</th>\n",
       "      <td>15</td>\n",
       "      <td>from kempmp phoenix oulu fi petri pihko subjec...</td>\n",
       "    </tr>\n",
       "  </tbody>\n",
       "</table>\n",
       "</div>"
      ],
      "text/plain": [
       "       target                                              email\n",
       "12549       3  from tschannf iauf5 unifr ch tschannen frederi...\n",
       "4023        7  subject convertibles from bouton gertrude cms ...\n",
       "18675      19  from livesey solntze wpd sgi com jon livesey s...\n",
       "8315       14  from henry zoo toronto edu henry spencer subje...\n",
       "9210       15  from kempmp phoenix oulu fi petri pihko subjec..."
      ]
     },
     "execution_count": 7,
     "metadata": {},
     "output_type": "execute_result"
    }
   ],
   "source": [
    "#Randomize indices\n",
    "data = data.reindex(np.random.permutation(data.index))\n",
    "\n",
    "data.head()"
   ]
  },
  {
   "cell_type": "markdown",
   "metadata": {},
   "source": [
    "## Exploratory Data Analysis:"
   ]
  },
  {
   "cell_type": "markdown",
   "metadata": {},
   "source": [
    "### Are There Any Missing Data?"
   ]
  },
  {
   "cell_type": "code",
   "execution_count": 8,
   "metadata": {},
   "outputs": [
    {
     "name": "stdout",
     "output_type": "stream",
     "text": [
      "<class 'pandas.core.frame.DataFrame'>\n",
      "Int64Index: 18846 entries, 12549 to 10598\n",
      "Data columns (total 2 columns):\n",
      " #   Column  Non-Null Count  Dtype \n",
      "---  ------  --------------  ----- \n",
      " 0   target  18846 non-null  int32 \n",
      " 1   email   18846 non-null  object\n",
      "dtypes: int32(1), object(1)\n",
      "memory usage: 368.1+ KB\n"
     ]
    }
   ],
   "source": [
    "data.info()"
   ]
  },
  {
   "cell_type": "markdown",
   "metadata": {},
   "source": [
    "We do not have missing data."
   ]
  },
  {
   "cell_type": "markdown",
   "metadata": {},
   "source": [
    "### Are There Any Duplicates in the Data?"
   ]
  },
  {
   "cell_type": "code",
   "execution_count": 9,
   "metadata": {},
   "outputs": [
    {
     "data": {
      "text/html": [
       "<div>\n",
       "<style scoped>\n",
       "    .dataframe tbody tr th:only-of-type {\n",
       "        vertical-align: middle;\n",
       "    }\n",
       "\n",
       "    .dataframe tbody tr th {\n",
       "        vertical-align: top;\n",
       "    }\n",
       "\n",
       "    .dataframe thead tr th {\n",
       "        text-align: left;\n",
       "    }\n",
       "\n",
       "    .dataframe thead tr:last-of-type th {\n",
       "        text-align: right;\n",
       "    }\n",
       "</style>\n",
       "<table border=\"1\" class=\"dataframe\">\n",
       "  <thead>\n",
       "    <tr>\n",
       "      <th></th>\n",
       "      <th colspan=\"4\" halign=\"left\">email</th>\n",
       "    </tr>\n",
       "    <tr>\n",
       "      <th></th>\n",
       "      <th>count</th>\n",
       "      <th>unique</th>\n",
       "      <th>top</th>\n",
       "      <th>freq</th>\n",
       "    </tr>\n",
       "    <tr>\n",
       "      <th>target</th>\n",
       "      <th></th>\n",
       "      <th></th>\n",
       "      <th></th>\n",
       "      <th></th>\n",
       "    </tr>\n",
       "  </thead>\n",
       "  <tbody>\n",
       "    <tr>\n",
       "      <th>0</th>\n",
       "      <td>799</td>\n",
       "      <td>799</td>\n",
       "      <td>from livesey solntze wpd sgi com jon livesey s...</td>\n",
       "      <td>1</td>\n",
       "    </tr>\n",
       "    <tr>\n",
       "      <th>1</th>\n",
       "      <td>973</td>\n",
       "      <td>973</td>\n",
       "      <td>from graeme labtam labtam oz au graeme gill su...</td>\n",
       "      <td>1</td>\n",
       "    </tr>\n",
       "    <tr>\n",
       "      <th>2</th>\n",
       "      <td>985</td>\n",
       "      <td>985</td>\n",
       "      <td>from dsiegel optima cs arizona edu seagull sub...</td>\n",
       "      <td>1</td>\n",
       "    </tr>\n",
       "    <tr>\n",
       "      <th>3</th>\n",
       "      <td>982</td>\n",
       "      <td>982</td>\n",
       "      <td>from msfuller cc utah edu marc s fuller subjec...</td>\n",
       "      <td>1</td>\n",
       "    </tr>\n",
       "    <tr>\n",
       "      <th>4</th>\n",
       "      <td>963</td>\n",
       "      <td>963</td>\n",
       "      <td>from wirehead cheshire oxy edu david j harr su...</td>\n",
       "      <td>1</td>\n",
       "    </tr>\n",
       "    <tr>\n",
       "      <th>5</th>\n",
       "      <td>988</td>\n",
       "      <td>988</td>\n",
       "      <td>from hannguye nosc mil han n nguyen subject ac...</td>\n",
       "      <td>1</td>\n",
       "    </tr>\n",
       "    <tr>\n",
       "      <th>6</th>\n",
       "      <td>975</td>\n",
       "      <td>973</td>\n",
       "      <td>from er1 eridan chuvashia su yarabayeva albina...</td>\n",
       "      <td>2</td>\n",
       "    </tr>\n",
       "    <tr>\n",
       "      <th>7</th>\n",
       "      <td>990</td>\n",
       "      <td>990</td>\n",
       "      <td>organization penn state university from subjec...</td>\n",
       "      <td>1</td>\n",
       "    </tr>\n",
       "    <tr>\n",
       "      <th>8</th>\n",
       "      <td>996</td>\n",
       "      <td>996</td>\n",
       "      <td>from nrmendel unix amherst edu nathaniel mende...</td>\n",
       "      <td>1</td>\n",
       "    </tr>\n",
       "    <tr>\n",
       "      <th>9</th>\n",
       "      <td>994</td>\n",
       "      <td>994</td>\n",
       "      <td>from drw3l delmarva evsc virginia edu david ro...</td>\n",
       "      <td>1</td>\n",
       "    </tr>\n",
       "    <tr>\n",
       "      <th>10</th>\n",
       "      <td>999</td>\n",
       "      <td>999</td>\n",
       "      <td>from au021 cleveland freenet edu roland behuni...</td>\n",
       "      <td>1</td>\n",
       "    </tr>\n",
       "    <tr>\n",
       "      <th>11</th>\n",
       "      <td>991</td>\n",
       "      <td>991</td>\n",
       "      <td>from rdippold qualcomm com ron asbestos dippol...</td>\n",
       "      <td>1</td>\n",
       "    </tr>\n",
       "    <tr>\n",
       "      <th>12</th>\n",
       "      <td>984</td>\n",
       "      <td>984</td>\n",
       "      <td>from wayne alan martin subject re dayton hamfe...</td>\n",
       "      <td>1</td>\n",
       "    </tr>\n",
       "    <tr>\n",
       "      <th>13</th>\n",
       "      <td>990</td>\n",
       "      <td>990</td>\n",
       "      <td>from n3022 cray com jim knoll subject patti du...</td>\n",
       "      <td>1</td>\n",
       "    </tr>\n",
       "    <tr>\n",
       "      <th>14</th>\n",
       "      <td>987</td>\n",
       "      <td>987</td>\n",
       "      <td>from jpg bnr co uk jonathan p gibbons subject ...</td>\n",
       "      <td>1</td>\n",
       "    </tr>\n",
       "    <tr>\n",
       "      <th>15</th>\n",
       "      <td>997</td>\n",
       "      <td>997</td>\n",
       "      <td>from atterlep vela acs oakland edu cardinal xi...</td>\n",
       "      <td>1</td>\n",
       "    </tr>\n",
       "    <tr>\n",
       "      <th>16</th>\n",
       "      <td>910</td>\n",
       "      <td>910</td>\n",
       "      <td>from dbernard clesun central sun com dave bern...</td>\n",
       "      <td>1</td>\n",
       "    </tr>\n",
       "    <tr>\n",
       "      <th>17</th>\n",
       "      <td>940</td>\n",
       "      <td>940</td>\n",
       "      <td>from sera zuma uucp serdar argic subject re pr...</td>\n",
       "      <td>1</td>\n",
       "    </tr>\n",
       "    <tr>\n",
       "      <th>18</th>\n",
       "      <td>775</td>\n",
       "      <td>775</td>\n",
       "      <td>from roby chopin udel edu scott w roby subject...</td>\n",
       "      <td>1</td>\n",
       "    </tr>\n",
       "    <tr>\n",
       "      <th>19</th>\n",
       "      <td>628</td>\n",
       "      <td>628</td>\n",
       "      <td>from caldwell facman ohsu edu larry caldwell s...</td>\n",
       "      <td>1</td>\n",
       "    </tr>\n",
       "  </tbody>\n",
       "</table>\n",
       "</div>"
      ],
      "text/plain": [
       "       email                                                               \n",
       "       count unique                                                top freq\n",
       "target                                                                     \n",
       "0        799    799  from livesey solntze wpd sgi com jon livesey s...    1\n",
       "1        973    973  from graeme labtam labtam oz au graeme gill su...    1\n",
       "2        985    985  from dsiegel optima cs arizona edu seagull sub...    1\n",
       "3        982    982  from msfuller cc utah edu marc s fuller subjec...    1\n",
       "4        963    963  from wirehead cheshire oxy edu david j harr su...    1\n",
       "5        988    988  from hannguye nosc mil han n nguyen subject ac...    1\n",
       "6        975    973  from er1 eridan chuvashia su yarabayeva albina...    2\n",
       "7        990    990  organization penn state university from subjec...    1\n",
       "8        996    996  from nrmendel unix amherst edu nathaniel mende...    1\n",
       "9        994    994  from drw3l delmarva evsc virginia edu david ro...    1\n",
       "10       999    999  from au021 cleveland freenet edu roland behuni...    1\n",
       "11       991    991  from rdippold qualcomm com ron asbestos dippol...    1\n",
       "12       984    984  from wayne alan martin subject re dayton hamfe...    1\n",
       "13       990    990  from n3022 cray com jim knoll subject patti du...    1\n",
       "14       987    987  from jpg bnr co uk jonathan p gibbons subject ...    1\n",
       "15       997    997  from atterlep vela acs oakland edu cardinal xi...    1\n",
       "16       910    910  from dbernard clesun central sun com dave bern...    1\n",
       "17       940    940  from sera zuma uucp serdar argic subject re pr...    1\n",
       "18       775    775  from roby chopin udel edu scott w roby subject...    1\n",
       "19       628    628  from caldwell facman ohsu edu larry caldwell s...    1"
      ]
     },
     "execution_count": 9,
     "metadata": {},
     "output_type": "execute_result"
    }
   ],
   "source": [
    "data.groupby('target').describe()"
   ]
  },
  {
   "cell_type": "markdown",
   "metadata": {},
   "source": [
    "We see that in group 6 we have duplicates, let's drop them from the dataset."
   ]
  },
  {
   "cell_type": "code",
   "execution_count": 10,
   "metadata": {},
   "outputs": [
    {
     "data": {
      "text/html": [
       "<div>\n",
       "<style scoped>\n",
       "    .dataframe tbody tr th:only-of-type {\n",
       "        vertical-align: middle;\n",
       "    }\n",
       "\n",
       "    .dataframe tbody tr th {\n",
       "        vertical-align: top;\n",
       "    }\n",
       "\n",
       "    .dataframe thead tr th {\n",
       "        text-align: left;\n",
       "    }\n",
       "\n",
       "    .dataframe thead tr:last-of-type th {\n",
       "        text-align: right;\n",
       "    }\n",
       "</style>\n",
       "<table border=\"1\" class=\"dataframe\">\n",
       "  <thead>\n",
       "    <tr>\n",
       "      <th></th>\n",
       "      <th colspan=\"4\" halign=\"left\">email</th>\n",
       "    </tr>\n",
       "    <tr>\n",
       "      <th></th>\n",
       "      <th>count</th>\n",
       "      <th>unique</th>\n",
       "      <th>top</th>\n",
       "      <th>freq</th>\n",
       "    </tr>\n",
       "    <tr>\n",
       "      <th>target</th>\n",
       "      <th></th>\n",
       "      <th></th>\n",
       "      <th></th>\n",
       "      <th></th>\n",
       "    </tr>\n",
       "  </thead>\n",
       "  <tbody>\n",
       "    <tr>\n",
       "      <th>0</th>\n",
       "      <td>799</td>\n",
       "      <td>799</td>\n",
       "      <td>from livesey solntze wpd sgi com jon livesey s...</td>\n",
       "      <td>1</td>\n",
       "    </tr>\n",
       "    <tr>\n",
       "      <th>1</th>\n",
       "      <td>973</td>\n",
       "      <td>973</td>\n",
       "      <td>from graeme labtam labtam oz au graeme gill su...</td>\n",
       "      <td>1</td>\n",
       "    </tr>\n",
       "    <tr>\n",
       "      <th>2</th>\n",
       "      <td>985</td>\n",
       "      <td>985</td>\n",
       "      <td>from dsiegel optima cs arizona edu seagull sub...</td>\n",
       "      <td>1</td>\n",
       "    </tr>\n",
       "    <tr>\n",
       "      <th>3</th>\n",
       "      <td>982</td>\n",
       "      <td>982</td>\n",
       "      <td>from msfuller cc utah edu marc s fuller subjec...</td>\n",
       "      <td>1</td>\n",
       "    </tr>\n",
       "    <tr>\n",
       "      <th>4</th>\n",
       "      <td>963</td>\n",
       "      <td>963</td>\n",
       "      <td>from wirehead cheshire oxy edu david j harr su...</td>\n",
       "      <td>1</td>\n",
       "    </tr>\n",
       "    <tr>\n",
       "      <th>5</th>\n",
       "      <td>988</td>\n",
       "      <td>988</td>\n",
       "      <td>from hannguye nosc mil han n nguyen subject ac...</td>\n",
       "      <td>1</td>\n",
       "    </tr>\n",
       "    <tr>\n",
       "      <th>6</th>\n",
       "      <td>973</td>\n",
       "      <td>973</td>\n",
       "      <td>from harmon math ohio state edu jim harmon sub...</td>\n",
       "      <td>1</td>\n",
       "    </tr>\n",
       "    <tr>\n",
       "      <th>7</th>\n",
       "      <td>990</td>\n",
       "      <td>990</td>\n",
       "      <td>organization penn state university from subjec...</td>\n",
       "      <td>1</td>\n",
       "    </tr>\n",
       "    <tr>\n",
       "      <th>8</th>\n",
       "      <td>996</td>\n",
       "      <td>996</td>\n",
       "      <td>from nrmendel unix amherst edu nathaniel mende...</td>\n",
       "      <td>1</td>\n",
       "    </tr>\n",
       "    <tr>\n",
       "      <th>9</th>\n",
       "      <td>994</td>\n",
       "      <td>994</td>\n",
       "      <td>from drw3l delmarva evsc virginia edu david ro...</td>\n",
       "      <td>1</td>\n",
       "    </tr>\n",
       "    <tr>\n",
       "      <th>10</th>\n",
       "      <td>999</td>\n",
       "      <td>999</td>\n",
       "      <td>from au021 cleveland freenet edu roland behuni...</td>\n",
       "      <td>1</td>\n",
       "    </tr>\n",
       "    <tr>\n",
       "      <th>11</th>\n",
       "      <td>991</td>\n",
       "      <td>991</td>\n",
       "      <td>from rdippold qualcomm com ron asbestos dippol...</td>\n",
       "      <td>1</td>\n",
       "    </tr>\n",
       "    <tr>\n",
       "      <th>12</th>\n",
       "      <td>984</td>\n",
       "      <td>984</td>\n",
       "      <td>from wayne alan martin subject re dayton hamfe...</td>\n",
       "      <td>1</td>\n",
       "    </tr>\n",
       "    <tr>\n",
       "      <th>13</th>\n",
       "      <td>990</td>\n",
       "      <td>990</td>\n",
       "      <td>from n3022 cray com jim knoll subject patti du...</td>\n",
       "      <td>1</td>\n",
       "    </tr>\n",
       "    <tr>\n",
       "      <th>14</th>\n",
       "      <td>987</td>\n",
       "      <td>987</td>\n",
       "      <td>from jpg bnr co uk jonathan p gibbons subject ...</td>\n",
       "      <td>1</td>\n",
       "    </tr>\n",
       "    <tr>\n",
       "      <th>15</th>\n",
       "      <td>997</td>\n",
       "      <td>997</td>\n",
       "      <td>from atterlep vela acs oakland edu cardinal xi...</td>\n",
       "      <td>1</td>\n",
       "    </tr>\n",
       "    <tr>\n",
       "      <th>16</th>\n",
       "      <td>910</td>\n",
       "      <td>910</td>\n",
       "      <td>from dbernard clesun central sun com dave bern...</td>\n",
       "      <td>1</td>\n",
       "    </tr>\n",
       "    <tr>\n",
       "      <th>17</th>\n",
       "      <td>940</td>\n",
       "      <td>940</td>\n",
       "      <td>from sera zuma uucp serdar argic subject re pr...</td>\n",
       "      <td>1</td>\n",
       "    </tr>\n",
       "    <tr>\n",
       "      <th>18</th>\n",
       "      <td>775</td>\n",
       "      <td>775</td>\n",
       "      <td>from roby chopin udel edu scott w roby subject...</td>\n",
       "      <td>1</td>\n",
       "    </tr>\n",
       "    <tr>\n",
       "      <th>19</th>\n",
       "      <td>628</td>\n",
       "      <td>628</td>\n",
       "      <td>from caldwell facman ohsu edu larry caldwell s...</td>\n",
       "      <td>1</td>\n",
       "    </tr>\n",
       "  </tbody>\n",
       "</table>\n",
       "</div>"
      ],
      "text/plain": [
       "       email                                                               \n",
       "       count unique                                                top freq\n",
       "target                                                                     \n",
       "0        799    799  from livesey solntze wpd sgi com jon livesey s...    1\n",
       "1        973    973  from graeme labtam labtam oz au graeme gill su...    1\n",
       "2        985    985  from dsiegel optima cs arizona edu seagull sub...    1\n",
       "3        982    982  from msfuller cc utah edu marc s fuller subjec...    1\n",
       "4        963    963  from wirehead cheshire oxy edu david j harr su...    1\n",
       "5        988    988  from hannguye nosc mil han n nguyen subject ac...    1\n",
       "6        973    973  from harmon math ohio state edu jim harmon sub...    1\n",
       "7        990    990  organization penn state university from subjec...    1\n",
       "8        996    996  from nrmendel unix amherst edu nathaniel mende...    1\n",
       "9        994    994  from drw3l delmarva evsc virginia edu david ro...    1\n",
       "10       999    999  from au021 cleveland freenet edu roland behuni...    1\n",
       "11       991    991  from rdippold qualcomm com ron asbestos dippol...    1\n",
       "12       984    984  from wayne alan martin subject re dayton hamfe...    1\n",
       "13       990    990  from n3022 cray com jim knoll subject patti du...    1\n",
       "14       987    987  from jpg bnr co uk jonathan p gibbons subject ...    1\n",
       "15       997    997  from atterlep vela acs oakland edu cardinal xi...    1\n",
       "16       910    910  from dbernard clesun central sun com dave bern...    1\n",
       "17       940    940  from sera zuma uucp serdar argic subject re pr...    1\n",
       "18       775    775  from roby chopin udel edu scott w roby subject...    1\n",
       "19       628    628  from caldwell facman ohsu edu larry caldwell s...    1"
      ]
     },
     "execution_count": 10,
     "metadata": {},
     "output_type": "execute_result"
    }
   ],
   "source": [
    "data.drop_duplicates(inplace=True)\n",
    "data.groupby('target').describe()"
   ]
  },
  {
   "cell_type": "markdown",
   "metadata": {},
   "source": [
    "### How Long are the Emails:"
   ]
  },
  {
   "cell_type": "code",
   "execution_count": 11,
   "metadata": {},
   "outputs": [
    {
     "data": {
      "text/plain": [
       "107"
      ]
     },
     "execution_count": 11,
     "metadata": {},
     "output_type": "execute_result"
    }
   ],
   "source": [
    "data['length'] = data['email'].map(lambda text: len(text))\n",
    "data.head()\n",
    "data['length'].min()"
   ]
  },
  {
   "cell_type": "code",
   "execution_count": 12,
   "metadata": {},
   "outputs": [
    {
     "data": {
      "image/png": "[encoded data removed]",
      "text/plain": [
       "<Figure size 432x288 with 1 Axes>"
      ]
     },
     "metadata": {
      "needs_background": "light"
     },
     "output_type": "display_data"
    }
   ],
   "source": [
    "plt.hist(data['length'], bins = [0,1000, 2000,3000,4000,5000,6000,7000,8000,9000,10000])\n",
    "plt.title(\"Word Count of Emails\") \n",
    "plt.xlabel('Word Count')\n",
    "plt.ylabel('Number of Emails')\n",
    "plt.show()"
   ]
  },
  {
   "cell_type": "code",
   "execution_count": 13,
   "metadata": {},
   "outputs": [
    {
     "data": {
      "text/plain": [
       "count    18844.000000\n",
       "mean      1633.540437\n",
       "std       3082.500584\n",
       "min        107.000000\n",
       "25%        646.750000\n",
       "50%       1006.000000\n",
       "75%       1640.000000\n",
       "max      67560.000000\n",
       "Name: length, dtype: float64"
      ]
     },
     "execution_count": 13,
     "metadata": {},
     "output_type": "execute_result"
    }
   ],
   "source": [
    "data.length.describe()"
   ]
  },
  {
   "cell_type": "markdown",
   "metadata": {},
   "source": [
    "We observe that the most frequent word count is 1000 or less. Very few of the emails contain more than 4000 words. On average, there are 1634 words in emails, and somebody took the time to write an email containing 67560 words!"
   ]
  },
  {
   "cell_type": "markdown",
   "metadata": {},
   "source": [
    "### Is There Any Difference in Email Length Between Newsgroups?"
   ]
  },
  {
   "cell_type": "code",
   "execution_count": 14,
   "metadata": {},
   "outputs": [
    {
     "data": {
      "image/png": "[encoded data removed]",
      "text/plain": [
       "<Figure size 432x288 with 1 Axes>"
      ]
     },
     "metadata": {
      "needs_background": "light"
     },
     "output_type": "display_data"
    }
   ],
   "source": [
    "length_per_newsgroup = pd.DataFrame(data.groupby('target')['length'].mean(), columns=[ 'length'])\n",
    "l_per_news = length_per_newsgroup.reset_index()\n",
    "l_per_news.plot(x='target', y='length',kind='scatter')\n",
    "ticks=list(l_per_news['target'])\n",
    "plt.xticks(ticks)\n",
    "plt.xlabel('Newsgroups')\n",
    "plt.ylabel('Length of Emails')\n",
    "plt.title('Which Group Sent the Most Lengthy Emails?')\n",
    "plt.show()"
   ]
  },
  {
   "cell_type": "markdown",
   "metadata": {},
   "source": [
    "On average, Group 17, which corresponds to 'talk.politics.mideast' sent the most lengthy emails. 'talk.politics.misc' and 'talk.religion.misc' are the second and third runner-ups respectively. This is not surprising, as the politics and religion are two topics people are generally very passionate to talk about."
   ]
  }
 ],
 "metadata": {
  "kernelspec": {
   "display_name": "Python 3",
   "language": "python",
   "name": "python3"
  },
  "language_info": {
   "codemirror_mode": {
    "name": "ipython",
    "version": 3
   },
   "file_extension": ".py",
   "mimetype": "text/x-python",
   "name": "python",
   "nbconvert_exporter": "python",
   "pygments_lexer": "ipython3",
   "version": "3.8.3"
  }
 },
 "nbformat": 4,
 "nbformat_minor": 4
}
